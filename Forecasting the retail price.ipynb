{
 "cells": [
  {
   "cell_type": "markdown",
   "metadata": {},
   "source": [
    "# Introduction"
   ]
  },
  {
   "cell_type": "markdown",
   "metadata": {},
   "source": [
    "## About"
   ]
  },
  {
   "cell_type": "markdown",
   "metadata": {},
   "source": [
    "The current pandemic has dwindled the data science job market likewise recruiters are also facing difficulties filtering the right talent. To bridge this gap we bring a chance for the MachineHack community to compete for jobs with some of the key analytics players for a rewarding career in Data Science. In this competition, we are challenging the MachineHack community to come up with an algorithm to predict the price of retail items belonging to different categories. Foretelling the Retail price can be a daunting task due to the huge datasets with a variety of attributes ranging from Text, Numbers(floats, integers), and DateTime. Also, outliers can be a big problem when dealing with unit prices.\n",
    "\n",
    "With a key focus on the Data Scientist role in an esteemed organization, this hackathon can help freshers and experienced folks prove their mettle and land up in a rewarding career.\n",
    "\n",
    "By participating in this hackathon, every participant will be eligible for the Data Scientist job role by making sure their MachineHack Information with Resume is up to date."
   ]
  },
  {
   "cell_type": "markdown",
   "metadata": {},
   "source": [
    "## Dataset"
   ]
  },
  {
   "cell_type": "markdown",
   "metadata": {},
   "source": [
    "**Data info :**"
   ]
  },
  {
   "cell_type": "markdown",
   "metadata": {},
   "source": [
    "Train.csv - 284780 rows x 8 columns (Inlcudes UnitPrice Columns as Target)<br>\n",
    "Test.csv  - 122049 rows x 7 columns"
   ]
  },
  {
   "cell_type": "markdown",
   "metadata": {},
   "source": [
    "**Attributes info :**"
   ]
  },
  {
   "cell_type": "markdown",
   "metadata": {},
   "source": [
    "- Invoice No  - Invoice ID, encoded as Label<br>\n",
    "- StockCode   - Unique code per stock, encoded as Label<br>\n",
    "- Description - The Description, encoded as Label<br>\n",
    "- Quantity    - Quantity purchased<br>\n",
    "- InvoiceDate - Date of purchase<br>\n",
    "- UnitPrice   - The target value, price of every product<br>\n",
    "- CustomerID  - Unique Identifier for every country<br>\n",
    "- Country     - Country of sales, encoded as Label"
   ]
  },
  {
   "cell_type": "markdown",
   "metadata": {},
   "source": [
    "## Goals"
   ]
  },
  {
   "cell_type": "markdown",
   "metadata": {
    "ExecuteTime": {
     "end_time": "2020-11-06T18:46:48.387809Z",
     "start_time": "2020-11-06T18:46:48.380319Z"
    }
   },
   "source": [
    "- Creating a multivariate regression model.<br>\n",
    "- Handling the given big dataset.<br>\n",
    "- Avoiding underfitting and overfitting.<br>\n",
    "- Optimizing RMSE to generalize well on unseen data.<br>"
   ]
  },
  {
   "cell_type": "markdown",
   "metadata": {},
   "source": [
    "# Importing data and packages"
   ]
  },
  {
   "cell_type": "markdown",
   "metadata": {},
   "source": [
    "## Importing necessary libraries"
   ]
  },
  {
   "cell_type": "code",
   "execution_count": 1,
   "metadata": {
    "ExecuteTime": {
     "end_time": "2020-11-22T13:54:34.735320Z",
     "start_time": "2020-11-22T13:54:33.808543Z"
    }
   },
   "outputs": [],
   "source": [
    "import numpy as np\n",
    "import pandas as pd\n",
    "import matplotlib.pyplot as plt\n",
    "import seaborn as sns\n",
    "from tqdm import tqdm\n",
    "from sklearn.feature_extraction.text import CountVectorizer\n",
    "from sklearn.model_selection import train_test_split\n",
    "from scipy.sparse import hstack\n",
    "from sklearn.decomposition import TruncatedSVD\n",
    "from sklearn.linear_model import LinearRegression\n",
    "from sklearn.tree import DecisionTreeRegressor\n",
    "from sklearn.ensemble import RandomForestRegressor\n",
    "from xgboost import XGBRegressor\n",
    "from sklearn.metrics import mean_squared_error\n",
    "from sklearn.model_selection import GridSearchCV\n",
    "import warnings\n",
    "warnings.filterwarnings(\"ignore\")"
   ]
  },
  {
   "cell_type": "markdown",
   "metadata": {},
   "source": [
    "## Importing the data"
   ]
  },
  {
   "cell_type": "code",
   "execution_count": 2,
   "metadata": {
    "ExecuteTime": {
     "end_time": "2020-11-22T13:54:38.221045Z",
     "start_time": "2020-11-22T13:54:37.994748Z"
    }
   },
   "outputs": [],
   "source": [
    "train = pd.read_csv('data/Train.csv')"
   ]
  },
  {
   "cell_type": "code",
   "execution_count": 3,
   "metadata": {
    "ExecuteTime": {
     "end_time": "2020-11-22T13:54:40.628063Z",
     "start_time": "2020-11-22T13:54:40.613581Z"
    }
   },
   "outputs": [
    {
     "data": {
      "text/html": [
       "<div>\n",
       "<style scoped>\n",
       "    .dataframe tbody tr th:only-of-type {\n",
       "        vertical-align: middle;\n",
       "    }\n",
       "\n",
       "    .dataframe tbody tr th {\n",
       "        vertical-align: top;\n",
       "    }\n",
       "\n",
       "    .dataframe thead th {\n",
       "        text-align: right;\n",
       "    }\n",
       "</style>\n",
       "<table border=\"1\" class=\"dataframe\">\n",
       "  <thead>\n",
       "    <tr style=\"text-align: right;\">\n",
       "      <th></th>\n",
       "      <th>InvoiceNo</th>\n",
       "      <th>StockCode</th>\n",
       "      <th>Description</th>\n",
       "      <th>Quantity</th>\n",
       "      <th>InvoiceDate</th>\n",
       "      <th>UnitPrice</th>\n",
       "      <th>CustomerID</th>\n",
       "      <th>Country</th>\n",
       "    </tr>\n",
       "  </thead>\n",
       "  <tbody>\n",
       "    <tr>\n",
       "      <th>0</th>\n",
       "      <td>6141</td>\n",
       "      <td>1583</td>\n",
       "      <td>144</td>\n",
       "      <td>3</td>\n",
       "      <td>2011-05-06 16:54:00</td>\n",
       "      <td>3.75</td>\n",
       "      <td>14056.0</td>\n",
       "      <td>35</td>\n",
       "    </tr>\n",
       "    <tr>\n",
       "      <th>1</th>\n",
       "      <td>6349</td>\n",
       "      <td>1300</td>\n",
       "      <td>3682</td>\n",
       "      <td>6</td>\n",
       "      <td>2011-05-11 07:35:00</td>\n",
       "      <td>1.95</td>\n",
       "      <td>13098.0</td>\n",
       "      <td>35</td>\n",
       "    </tr>\n",
       "    <tr>\n",
       "      <th>2</th>\n",
       "      <td>16783</td>\n",
       "      <td>2178</td>\n",
       "      <td>1939</td>\n",
       "      <td>4</td>\n",
       "      <td>2011-11-20 13:20:00</td>\n",
       "      <td>5.95</td>\n",
       "      <td>15044.0</td>\n",
       "      <td>35</td>\n",
       "    </tr>\n",
       "    <tr>\n",
       "      <th>3</th>\n",
       "      <td>16971</td>\n",
       "      <td>2115</td>\n",
       "      <td>2983</td>\n",
       "      <td>1</td>\n",
       "      <td>2011-11-22 12:07:00</td>\n",
       "      <td>0.83</td>\n",
       "      <td>15525.0</td>\n",
       "      <td>35</td>\n",
       "    </tr>\n",
       "    <tr>\n",
       "      <th>4</th>\n",
       "      <td>6080</td>\n",
       "      <td>1210</td>\n",
       "      <td>2886</td>\n",
       "      <td>12</td>\n",
       "      <td>2011-05-06 09:00:00</td>\n",
       "      <td>1.65</td>\n",
       "      <td>13952.0</td>\n",
       "      <td>35</td>\n",
       "    </tr>\n",
       "  </tbody>\n",
       "</table>\n",
       "</div>"
      ],
      "text/plain": [
       "   InvoiceNo  StockCode  Description  Quantity          InvoiceDate  \\\n",
       "0       6141       1583          144         3  2011-05-06 16:54:00   \n",
       "1       6349       1300         3682         6  2011-05-11 07:35:00   \n",
       "2      16783       2178         1939         4  2011-11-20 13:20:00   \n",
       "3      16971       2115         2983         1  2011-11-22 12:07:00   \n",
       "4       6080       1210         2886        12  2011-05-06 09:00:00   \n",
       "\n",
       "   UnitPrice  CustomerID  Country  \n",
       "0       3.75     14056.0       35  \n",
       "1       1.95     13098.0       35  \n",
       "2       5.95     15044.0       35  \n",
       "3       0.83     15525.0       35  \n",
       "4       1.65     13952.0       35  "
      ]
     },
     "execution_count": 3,
     "metadata": {},
     "output_type": "execute_result"
    }
   ],
   "source": [
    "train.head()"
   ]
  },
  {
   "cell_type": "markdown",
   "metadata": {},
   "source": [
    "**Dropping duplicates :**"
   ]
  },
  {
   "cell_type": "code",
   "execution_count": 4,
   "metadata": {
    "ExecuteTime": {
     "end_time": "2020-11-22T13:54:44.592839Z",
     "start_time": "2020-11-22T13:54:44.588875Z"
    }
   },
   "outputs": [
    {
     "data": {
      "text/plain": [
       "(284780, 8)"
      ]
     },
     "execution_count": 4,
     "metadata": {},
     "output_type": "execute_result"
    }
   ],
   "source": [
    "train.shape"
   ]
  },
  {
   "cell_type": "code",
   "execution_count": 5,
   "metadata": {
    "ExecuteTime": {
     "end_time": "2020-11-22T13:54:47.806023Z",
     "start_time": "2020-11-22T13:54:47.672053Z"
    }
   },
   "outputs": [],
   "source": [
    "train = train.drop_duplicates()"
   ]
  },
  {
   "cell_type": "code",
   "execution_count": 6,
   "metadata": {
    "ExecuteTime": {
     "end_time": "2020-11-22T13:54:50.416317Z",
     "start_time": "2020-11-22T13:54:50.399489Z"
    }
   },
   "outputs": [],
   "source": [
    "train = train.reset_index()"
   ]
  },
  {
   "cell_type": "code",
   "execution_count": 7,
   "metadata": {
    "ExecuteTime": {
     "end_time": "2020-11-22T13:54:53.258693Z",
     "start_time": "2020-11-22T13:54:53.255008Z"
    }
   },
   "outputs": [
    {
     "data": {
      "text/plain": [
       "(282159, 9)"
      ]
     },
     "execution_count": 7,
     "metadata": {},
     "output_type": "execute_result"
    }
   ],
   "source": [
    "train.shape"
   ]
  },
  {
   "cell_type": "markdown",
   "metadata": {},
   "source": [
    "**Some details regarding the data :**"
   ]
  },
  {
   "cell_type": "code",
   "execution_count": 8,
   "metadata": {
    "ExecuteTime": {
     "end_time": "2020-11-22T13:54:55.927539Z",
     "start_time": "2020-11-22T13:54:55.791926Z"
    }
   },
   "outputs": [
    {
     "data": {
      "text/html": [
       "<div>\n",
       "<style scoped>\n",
       "    .dataframe tbody tr th:only-of-type {\n",
       "        vertical-align: middle;\n",
       "    }\n",
       "\n",
       "    .dataframe tbody tr th {\n",
       "        vertical-align: top;\n",
       "    }\n",
       "\n",
       "    .dataframe thead th {\n",
       "        text-align: right;\n",
       "    }\n",
       "</style>\n",
       "<table border=\"1\" class=\"dataframe\">\n",
       "  <thead>\n",
       "    <tr style=\"text-align: right;\">\n",
       "      <th></th>\n",
       "      <th>count</th>\n",
       "      <th>mean</th>\n",
       "      <th>std</th>\n",
       "      <th>min</th>\n",
       "      <th>25%</th>\n",
       "      <th>50%</th>\n",
       "      <th>75%</th>\n",
       "      <th>max</th>\n",
       "    </tr>\n",
       "  </thead>\n",
       "  <tbody>\n",
       "    <tr>\n",
       "      <th>index</th>\n",
       "      <td>282159.0</td>\n",
       "      <td>141964.739073</td>\n",
       "      <td>82212.491359</td>\n",
       "      <td>0.0</td>\n",
       "      <td>70715.50</td>\n",
       "      <td>141745.00</td>\n",
       "      <td>213127.50</td>\n",
       "      <td>284779.0</td>\n",
       "    </tr>\n",
       "    <tr>\n",
       "      <th>InvoiceNo</th>\n",
       "      <td>282159.0</td>\n",
       "      <td>9949.557267</td>\n",
       "      <td>5547.353569</td>\n",
       "      <td>0.0</td>\n",
       "      <td>5069.00</td>\n",
       "      <td>10294.00</td>\n",
       "      <td>14640.00</td>\n",
       "      <td>22188.0</td>\n",
       "    </tr>\n",
       "    <tr>\n",
       "      <th>StockCode</th>\n",
       "      <td>282159.0</td>\n",
       "      <td>1573.707527</td>\n",
       "      <td>843.814154</td>\n",
       "      <td>0.0</td>\n",
       "      <td>942.00</td>\n",
       "      <td>1522.00</td>\n",
       "      <td>2106.00</td>\n",
       "      <td>3683.0</td>\n",
       "    </tr>\n",
       "    <tr>\n",
       "      <th>Description</th>\n",
       "      <td>282159.0</td>\n",
       "      <td>2024.261955</td>\n",
       "      <td>1089.992911</td>\n",
       "      <td>0.0</td>\n",
       "      <td>1141.00</td>\n",
       "      <td>1987.00</td>\n",
       "      <td>2945.00</td>\n",
       "      <td>3895.0</td>\n",
       "    </tr>\n",
       "    <tr>\n",
       "      <th>Quantity</th>\n",
       "      <td>282159.0</td>\n",
       "      <td>12.109885</td>\n",
       "      <td>296.463809</td>\n",
       "      <td>-80995.0</td>\n",
       "      <td>2.00</td>\n",
       "      <td>5.00</td>\n",
       "      <td>12.00</td>\n",
       "      <td>80995.0</td>\n",
       "    </tr>\n",
       "    <tr>\n",
       "      <th>UnitPrice</th>\n",
       "      <td>282159.0</td>\n",
       "      <td>3.460501</td>\n",
       "      <td>78.762448</td>\n",
       "      <td>0.0</td>\n",
       "      <td>1.25</td>\n",
       "      <td>1.95</td>\n",
       "      <td>3.75</td>\n",
       "      <td>38970.0</td>\n",
       "    </tr>\n",
       "    <tr>\n",
       "      <th>CustomerID</th>\n",
       "      <td>282159.0</td>\n",
       "      <td>15283.444366</td>\n",
       "      <td>1714.633177</td>\n",
       "      <td>12346.0</td>\n",
       "      <td>13947.00</td>\n",
       "      <td>15147.00</td>\n",
       "      <td>16791.00</td>\n",
       "      <td>18287.0</td>\n",
       "    </tr>\n",
       "    <tr>\n",
       "      <th>Country</th>\n",
       "      <td>282159.0</td>\n",
       "      <td>32.805964</td>\n",
       "      <td>6.768422</td>\n",
       "      <td>0.0</td>\n",
       "      <td>35.00</td>\n",
       "      <td>35.00</td>\n",
       "      <td>35.00</td>\n",
       "      <td>36.0</td>\n",
       "    </tr>\n",
       "  </tbody>\n",
       "</table>\n",
       "</div>"
      ],
      "text/plain": [
       "                count           mean           std      min       25%  \\\n",
       "index        282159.0  141964.739073  82212.491359      0.0  70715.50   \n",
       "InvoiceNo    282159.0    9949.557267   5547.353569      0.0   5069.00   \n",
       "StockCode    282159.0    1573.707527    843.814154      0.0    942.00   \n",
       "Description  282159.0    2024.261955   1089.992911      0.0   1141.00   \n",
       "Quantity     282159.0      12.109885    296.463809 -80995.0      2.00   \n",
       "UnitPrice    282159.0       3.460501     78.762448      0.0      1.25   \n",
       "CustomerID   282159.0   15283.444366   1714.633177  12346.0  13947.00   \n",
       "Country      282159.0      32.805964      6.768422      0.0     35.00   \n",
       "\n",
       "                   50%        75%       max  \n",
       "index        141745.00  213127.50  284779.0  \n",
       "InvoiceNo     10294.00   14640.00   22188.0  \n",
       "StockCode      1522.00    2106.00    3683.0  \n",
       "Description    1987.00    2945.00    3895.0  \n",
       "Quantity          5.00      12.00   80995.0  \n",
       "UnitPrice         1.95       3.75   38970.0  \n",
       "CustomerID    15147.00   16791.00   18287.0  \n",
       "Country          35.00      35.00      36.0  "
      ]
     },
     "execution_count": 8,
     "metadata": {},
     "output_type": "execute_result"
    }
   ],
   "source": [
    "train.describe().T"
   ]
  },
  {
   "cell_type": "code",
   "execution_count": 9,
   "metadata": {
    "ExecuteTime": {
     "end_time": "2020-11-22T13:54:58.227861Z",
     "start_time": "2020-11-22T13:54:58.200597Z"
    }
   },
   "outputs": [
    {
     "name": "stdout",
     "output_type": "stream",
     "text": [
      "<class 'pandas.core.frame.DataFrame'>\n",
      "RangeIndex: 282159 entries, 0 to 282158\n",
      "Data columns (total 9 columns):\n",
      " #   Column       Non-Null Count   Dtype  \n",
      "---  ------       --------------   -----  \n",
      " 0   index        282159 non-null  int64  \n",
      " 1   InvoiceNo    282159 non-null  int64  \n",
      " 2   StockCode    282159 non-null  int64  \n",
      " 3   Description  282159 non-null  int64  \n",
      " 4   Quantity     282159 non-null  int64  \n",
      " 5   InvoiceDate  282159 non-null  object \n",
      " 6   UnitPrice    282159 non-null  float64\n",
      " 7   CustomerID   282159 non-null  float64\n",
      " 8   Country      282159 non-null  int64  \n",
      "dtypes: float64(2), int64(6), object(1)\n",
      "memory usage: 19.4+ MB\n"
     ]
    }
   ],
   "source": [
    "train.info()"
   ]
  },
  {
   "cell_type": "code",
   "execution_count": 10,
   "metadata": {
    "ExecuteTime": {
     "end_time": "2020-11-22T13:55:00.817758Z",
     "start_time": "2020-11-22T13:55:00.793608Z"
    }
   },
   "outputs": [
    {
     "data": {
      "text/plain": [
       "index          0\n",
       "InvoiceNo      0\n",
       "StockCode      0\n",
       "Description    0\n",
       "Quantity       0\n",
       "InvoiceDate    0\n",
       "UnitPrice      0\n",
       "CustomerID     0\n",
       "Country        0\n",
       "dtype: int64"
      ]
     },
     "execution_count": 10,
     "metadata": {},
     "output_type": "execute_result"
    }
   ],
   "source": [
    "train.isnull().sum()"
   ]
  },
  {
   "cell_type": "markdown",
   "metadata": {},
   "source": [
    "> *NO MISSING VALUES WITHIN THE GIVEN TRAINING SET.*"
   ]
  },
  {
   "cell_type": "markdown",
   "metadata": {
    "ExecuteTime": {
     "end_time": "2020-11-06T18:53:55.794694Z",
     "start_time": "2020-11-06T18:53:55.786350Z"
    }
   },
   "source": [
    "# Exploratory data analysis"
   ]
  },
  {
   "cell_type": "markdown",
   "metadata": {
    "ExecuteTime": {
     "end_time": "2020-11-06T18:54:09.361664Z",
     "start_time": "2020-11-06T18:54:09.359423Z"
    }
   },
   "source": [
    "## Univariate analysis"
   ]
  },
  {
   "cell_type": "markdown",
   "metadata": {},
   "source": [
    "### Analyzing stock code"
   ]
  },
  {
   "cell_type": "code",
   "execution_count": 11,
   "metadata": {
    "ExecuteTime": {
     "end_time": "2020-11-22T13:55:04.147076Z",
     "start_time": "2020-11-22T13:55:04.139017Z"
    }
   },
   "outputs": [],
   "source": [
    "stock_codes_meta = train['StockCode'].value_counts()"
   ]
  },
  {
   "cell_type": "code",
   "execution_count": 12,
   "metadata": {
    "ExecuteTime": {
     "end_time": "2020-11-22T13:55:06.560911Z",
     "start_time": "2020-11-22T13:55:06.557051Z"
    }
   },
   "outputs": [
    {
     "name": "stdout",
     "output_type": "stream",
     "text": [
      "Top 10 repeating stock codes \n",
      "Stockcode : Frequency\n",
      "\n",
      "3249    1473\n",
      "1292    1289\n",
      "3235    1171\n",
      "3069     993\n",
      "170      992\n",
      "2599     966\n",
      "1574     850\n",
      "3683     840\n",
      "2037     781\n",
      "1092     768\n",
      "Name: StockCode, dtype: int64\n"
     ]
    }
   ],
   "source": [
    "print(\"Top 10 repeating stock codes \\nStockcode : Frequency\\n\")\n",
    "print(stock_codes_meta[:10])"
   ]
  },
  {
   "cell_type": "markdown",
   "metadata": {},
   "source": [
    "### Analyzing Description"
   ]
  },
  {
   "cell_type": "code",
   "execution_count": 13,
   "metadata": {
    "ExecuteTime": {
     "end_time": "2020-11-22T13:55:09.255053Z",
     "start_time": "2020-11-22T13:55:09.249278Z"
    }
   },
   "outputs": [],
   "source": [
    "description_meta = train['Description'].value_counts()"
   ]
  },
  {
   "cell_type": "code",
   "execution_count": 14,
   "metadata": {
    "ExecuteTime": {
     "end_time": "2020-11-22T13:55:11.646772Z",
     "start_time": "2020-11-22T13:55:11.641800Z"
    }
   },
   "outputs": [
    {
     "name": "stdout",
     "output_type": "stream",
     "text": [
      "Top 10 repeating description \n",
      "Description : Frequency\n",
      "\n",
      "3716    1467\n",
      "2780    1289\n",
      "1771    1171\n",
      "217      993\n",
      "1953     991\n",
      "2355     966\n",
      "3014     850\n",
      "2624     840\n",
      "2279     753\n",
      "1945     749\n",
      "Name: Description, dtype: int64\n"
     ]
    }
   ],
   "source": [
    "print(\"Top 10 repeating description \\nDescription : Frequency\\n\")\n",
    "print(description_meta[:10])"
   ]
  },
  {
   "cell_type": "markdown",
   "metadata": {},
   "source": [
    "### Analyzing quantity"
   ]
  },
  {
   "cell_type": "code",
   "execution_count": 15,
   "metadata": {
    "ExecuteTime": {
     "end_time": "2020-11-22T13:55:14.137602Z",
     "start_time": "2020-11-22T13:55:14.131110Z"
    }
   },
   "outputs": [],
   "source": [
    "quantity_meta = train['Quantity'].value_counts()"
   ]
  },
  {
   "cell_type": "code",
   "execution_count": 16,
   "metadata": {
    "ExecuteTime": {
     "end_time": "2020-11-22T13:55:16.669565Z",
     "start_time": "2020-11-22T13:55:16.664674Z"
    }
   },
   "outputs": [
    {
     "name": "stdout",
     "output_type": "stream",
     "text": [
      "Top 10 repeating quantity \n",
      "Quantity : Frequency\n",
      "\n",
      "1     49377\n",
      "12    41976\n",
      "2     40428\n",
      "6     26278\n",
      "4     22563\n",
      "3     18732\n",
      "24    16533\n",
      "10    14707\n",
      "8      8128\n",
      "5      5716\n",
      "Name: Quantity, dtype: int64\n"
     ]
    }
   ],
   "source": [
    "print(\"Top 10 repeating quantity \\nQuantity : Frequency\\n\")\n",
    "print(quantity_meta[:10])"
   ]
  },
  {
   "cell_type": "code",
   "execution_count": 17,
   "metadata": {
    "ExecuteTime": {
     "end_time": "2020-11-22T13:55:20.225790Z",
     "start_time": "2020-11-22T13:55:18.968297Z"
    }
   },
   "outputs": [
    {
     "data": {
      "text/plain": [
       "<AxesSubplot:xlabel='Quantity', ylabel='Density'>"
      ]
     },
     "execution_count": 17,
     "metadata": {},
     "output_type": "execute_result"
    },
    {
     "data": {
      "image/png": "[encoded data removed]",
      "text/plain": [
       "<Figure size 432x288 with 1 Axes>"
      ]
     },
     "metadata": {
      "needs_background": "light"
     },
     "output_type": "display_data"
    }
   ],
   "source": [
    "sns.distplot(train['Quantity'])"
   ]
  },
  {
   "cell_type": "markdown",
   "metadata": {},
   "source": [
    "### Analyzing invoice date"
   ]
  },
  {
   "cell_type": "code",
   "execution_count": 18,
   "metadata": {
    "ExecuteTime": {
     "end_time": "2020-11-22T13:55:25.256196Z",
     "start_time": "2020-11-22T13:55:25.197457Z"
    }
   },
   "outputs": [],
   "source": [
    "invoice_date_meta = train['InvoiceDate'].value_counts()"
   ]
  },
  {
   "cell_type": "code",
   "execution_count": 19,
   "metadata": {
    "ExecuteTime": {
     "end_time": "2020-11-22T13:55:27.748712Z",
     "start_time": "2020-11-22T13:55:27.741600Z"
    }
   },
   "outputs": [
    {
     "name": "stdout",
     "output_type": "stream",
     "text": [
      "Top 10 repeating invoice_dates \n",
      "InvoiceDate : Frequency\n",
      "\n",
      "2011-11-28 15:54:00    385\n",
      "2011-11-14 15:27:00    384\n",
      "2011-12-05 17:17:00    361\n",
      "2011-10-31 14:09:00    311\n",
      "2011-11-23 13:39:00    307\n",
      "2011-09-21 14:40:00    273\n",
      "2011-11-10 12:37:00    268\n",
      "2011-10-17 13:31:00    260\n",
      "2011-10-24 17:07:00    257\n",
      "2011-09-26 15:28:00    245\n",
      "Name: InvoiceDate, dtype: int64\n"
     ]
    }
   ],
   "source": [
    "print(\"Top 10 repeating invoice_dates \\nInvoiceDate : Frequency\\n\")\n",
    "print(invoice_date_meta[:10])"
   ]
  },
  {
   "cell_type": "markdown",
   "metadata": {},
   "source": [
    "**Converting date into datetime format:**"
   ]
  },
  {
   "cell_type": "code",
   "execution_count": 20,
   "metadata": {
    "ExecuteTime": {
     "end_time": "2020-11-22T13:55:30.662730Z",
     "start_time": "2020-11-22T13:55:30.609799Z"
    }
   },
   "outputs": [],
   "source": [
    "InvoiceDate = pd.to_datetime(train['InvoiceDate'])"
   ]
  },
  {
   "cell_type": "code",
   "execution_count": 21,
   "metadata": {
    "ExecuteTime": {
     "end_time": "2020-11-22T13:55:34.299262Z",
     "start_time": "2020-11-22T13:55:34.295759Z"
    }
   },
   "outputs": [
    {
     "data": {
      "text/plain": [
       "Timestamp('2011-05-06 16:54:00')"
      ]
     },
     "execution_count": 21,
     "metadata": {},
     "output_type": "execute_result"
    }
   ],
   "source": [
    "InvoiceDate[0]"
   ]
  },
  {
   "cell_type": "code",
   "execution_count": 22,
   "metadata": {
    "ExecuteTime": {
     "end_time": "2020-11-22T13:55:36.821384Z",
     "start_time": "2020-11-22T13:55:36.814845Z"
    }
   },
   "outputs": [
    {
     "name": "stdout",
     "output_type": "stream",
     "text": [
      "2011\n",
      "5\n",
      "6\n",
      "16\n",
      "54\n"
     ]
    }
   ],
   "source": [
    "print(InvoiceDate[0].year)\n",
    "print(InvoiceDate[0].month)\n",
    "print(InvoiceDate[0].day)\n",
    "print(InvoiceDate[0].hour)\n",
    "print(InvoiceDate[0].minute)"
   ]
  },
  {
   "cell_type": "code",
   "execution_count": 23,
   "metadata": {
    "ExecuteTime": {
     "end_time": "2020-11-22T13:55:38.918368Z",
     "start_time": "2020-11-22T13:55:38.894605Z"
    }
   },
   "outputs": [
    {
     "data": {
      "text/html": [
       "<div>\n",
       "<style scoped>\n",
       "    .dataframe tbody tr th:only-of-type {\n",
       "        vertical-align: middle;\n",
       "    }\n",
       "\n",
       "    .dataframe tbody tr th {\n",
       "        vertical-align: top;\n",
       "    }\n",
       "\n",
       "    .dataframe thead th {\n",
       "        text-align: right;\n",
       "    }\n",
       "</style>\n",
       "<table border=\"1\" class=\"dataframe\">\n",
       "  <thead>\n",
       "    <tr style=\"text-align: right;\">\n",
       "      <th></th>\n",
       "      <th>index</th>\n",
       "      <th>InvoiceNo</th>\n",
       "      <th>StockCode</th>\n",
       "      <th>Description</th>\n",
       "      <th>Quantity</th>\n",
       "      <th>InvoiceDate</th>\n",
       "      <th>UnitPrice</th>\n",
       "      <th>CustomerID</th>\n",
       "      <th>Country</th>\n",
       "      <th>Year</th>\n",
       "      <th>Month</th>\n",
       "      <th>Day</th>\n",
       "      <th>Hour</th>\n",
       "      <th>Minute</th>\n",
       "    </tr>\n",
       "  </thead>\n",
       "  <tbody>\n",
       "    <tr>\n",
       "      <th>0</th>\n",
       "      <td>0</td>\n",
       "      <td>6141</td>\n",
       "      <td>1583</td>\n",
       "      <td>144</td>\n",
       "      <td>3</td>\n",
       "      <td>2011-05-06 16:54:00</td>\n",
       "      <td>3.75</td>\n",
       "      <td>14056.0</td>\n",
       "      <td>35</td>\n",
       "      <td></td>\n",
       "      <td></td>\n",
       "      <td></td>\n",
       "      <td></td>\n",
       "      <td></td>\n",
       "    </tr>\n",
       "    <tr>\n",
       "      <th>1</th>\n",
       "      <td>1</td>\n",
       "      <td>6349</td>\n",
       "      <td>1300</td>\n",
       "      <td>3682</td>\n",
       "      <td>6</td>\n",
       "      <td>2011-05-11 07:35:00</td>\n",
       "      <td>1.95</td>\n",
       "      <td>13098.0</td>\n",
       "      <td>35</td>\n",
       "      <td></td>\n",
       "      <td></td>\n",
       "      <td></td>\n",
       "      <td></td>\n",
       "      <td></td>\n",
       "    </tr>\n",
       "    <tr>\n",
       "      <th>2</th>\n",
       "      <td>2</td>\n",
       "      <td>16783</td>\n",
       "      <td>2178</td>\n",
       "      <td>1939</td>\n",
       "      <td>4</td>\n",
       "      <td>2011-11-20 13:20:00</td>\n",
       "      <td>5.95</td>\n",
       "      <td>15044.0</td>\n",
       "      <td>35</td>\n",
       "      <td></td>\n",
       "      <td></td>\n",
       "      <td></td>\n",
       "      <td></td>\n",
       "      <td></td>\n",
       "    </tr>\n",
       "    <tr>\n",
       "      <th>3</th>\n",
       "      <td>3</td>\n",
       "      <td>16971</td>\n",
       "      <td>2115</td>\n",
       "      <td>2983</td>\n",
       "      <td>1</td>\n",
       "      <td>2011-11-22 12:07:00</td>\n",
       "      <td>0.83</td>\n",
       "      <td>15525.0</td>\n",
       "      <td>35</td>\n",
       "      <td></td>\n",
       "      <td></td>\n",
       "      <td></td>\n",
       "      <td></td>\n",
       "      <td></td>\n",
       "    </tr>\n",
       "    <tr>\n",
       "      <th>4</th>\n",
       "      <td>4</td>\n",
       "      <td>6080</td>\n",
       "      <td>1210</td>\n",
       "      <td>2886</td>\n",
       "      <td>12</td>\n",
       "      <td>2011-05-06 09:00:00</td>\n",
       "      <td>1.65</td>\n",
       "      <td>13952.0</td>\n",
       "      <td>35</td>\n",
       "      <td></td>\n",
       "      <td></td>\n",
       "      <td></td>\n",
       "      <td></td>\n",
       "      <td></td>\n",
       "    </tr>\n",
       "  </tbody>\n",
       "</table>\n",
       "</div>"
      ],
      "text/plain": [
       "   index  InvoiceNo  StockCode  Description  Quantity          InvoiceDate  \\\n",
       "0      0       6141       1583          144         3  2011-05-06 16:54:00   \n",
       "1      1       6349       1300         3682         6  2011-05-11 07:35:00   \n",
       "2      2      16783       2178         1939         4  2011-11-20 13:20:00   \n",
       "3      3      16971       2115         2983         1  2011-11-22 12:07:00   \n",
       "4      4       6080       1210         2886        12  2011-05-06 09:00:00   \n",
       "\n",
       "   UnitPrice  CustomerID  Country Year Month Day Hour Minute  \n",
       "0       3.75     14056.0       35                             \n",
       "1       1.95     13098.0       35                             \n",
       "2       5.95     15044.0       35                             \n",
       "3       0.83     15525.0       35                             \n",
       "4       1.65     13952.0       35                             "
      ]
     },
     "execution_count": 23,
     "metadata": {},
     "output_type": "execute_result"
    }
   ],
   "source": [
    "train['Year'] = ''\n",
    "train['Month'] = ''\n",
    "train['Day'] = ''\n",
    "train['Hour'] = ''\n",
    "train['Minute'] = ''\n",
    "train.head()"
   ]
  },
  {
   "cell_type": "code",
   "execution_count": 24,
   "metadata": {
    "ExecuteTime": {
     "end_time": "2020-11-22T13:55:59.665499Z",
     "start_time": "2020-11-22T13:55:41.017289Z"
    }
   },
   "outputs": [
    {
     "name": "stderr",
     "output_type": "stream",
     "text": [
      "100%|██████████| 282159/282159 [00:18<00:00, 15140.23it/s]\n"
     ]
    }
   ],
   "source": [
    "year = np.zeros(len(train))\n",
    "month = np.zeros(len(train))\n",
    "day = np.zeros(len(train))\n",
    "hour = np.zeros(len(train))\n",
    "minute = np.zeros(len(train))\n",
    "for i in tqdm(range(len(train))):\n",
    "    year[i] = InvoiceDate[i].year\n",
    "    month[i] = InvoiceDate[i].month\n",
    "    day[i] = InvoiceDate[i].day\n",
    "    hour[i] = InvoiceDate[i].hour\n",
    "    minute[i] = InvoiceDate[i].minute"
   ]
  },
  {
   "cell_type": "code",
   "execution_count": 25,
   "metadata": {
    "ExecuteTime": {
     "end_time": "2020-11-22T13:55:59.678941Z",
     "start_time": "2020-11-22T13:55:59.667605Z"
    }
   },
   "outputs": [],
   "source": [
    "train['Year'] = year\n",
    "train['Month'] = month\n",
    "train['Day'] = day\n",
    "train['Hour'] = hour\n",
    "train['Minute'] = minute"
   ]
  },
  {
   "cell_type": "code",
   "execution_count": 26,
   "metadata": {
    "ExecuteTime": {
     "end_time": "2020-11-22T13:55:59.868891Z",
     "start_time": "2020-11-22T13:55:59.681019Z"
    }
   },
   "outputs": [
    {
     "data": {
      "text/html": [
       "<div>\n",
       "<style scoped>\n",
       "    .dataframe tbody tr th:only-of-type {\n",
       "        vertical-align: middle;\n",
       "    }\n",
       "\n",
       "    .dataframe tbody tr th {\n",
       "        vertical-align: top;\n",
       "    }\n",
       "\n",
       "    .dataframe thead th {\n",
       "        text-align: right;\n",
       "    }\n",
       "</style>\n",
       "<table border=\"1\" class=\"dataframe\">\n",
       "  <thead>\n",
       "    <tr style=\"text-align: right;\">\n",
       "      <th></th>\n",
       "      <th>index</th>\n",
       "      <th>InvoiceNo</th>\n",
       "      <th>StockCode</th>\n",
       "      <th>Description</th>\n",
       "      <th>Quantity</th>\n",
       "      <th>InvoiceDate</th>\n",
       "      <th>UnitPrice</th>\n",
       "      <th>CustomerID</th>\n",
       "      <th>Country</th>\n",
       "      <th>Year</th>\n",
       "      <th>Month</th>\n",
       "      <th>Day</th>\n",
       "      <th>Hour</th>\n",
       "      <th>Minute</th>\n",
       "    </tr>\n",
       "  </thead>\n",
       "  <tbody>\n",
       "    <tr>\n",
       "      <th>0</th>\n",
       "      <td>0</td>\n",
       "      <td>6141</td>\n",
       "      <td>1583</td>\n",
       "      <td>144</td>\n",
       "      <td>3</td>\n",
       "      <td>2011-05-06 16:54:00</td>\n",
       "      <td>3.75</td>\n",
       "      <td>14056.0</td>\n",
       "      <td>35</td>\n",
       "      <td>2011.0</td>\n",
       "      <td>5.0</td>\n",
       "      <td>6.0</td>\n",
       "      <td>16.0</td>\n",
       "      <td>54.0</td>\n",
       "    </tr>\n",
       "    <tr>\n",
       "      <th>1</th>\n",
       "      <td>1</td>\n",
       "      <td>6349</td>\n",
       "      <td>1300</td>\n",
       "      <td>3682</td>\n",
       "      <td>6</td>\n",
       "      <td>2011-05-11 07:35:00</td>\n",
       "      <td>1.95</td>\n",
       "      <td>13098.0</td>\n",
       "      <td>35</td>\n",
       "      <td>2011.0</td>\n",
       "      <td>5.0</td>\n",
       "      <td>11.0</td>\n",
       "      <td>7.0</td>\n",
       "      <td>35.0</td>\n",
       "    </tr>\n",
       "    <tr>\n",
       "      <th>2</th>\n",
       "      <td>2</td>\n",
       "      <td>16783</td>\n",
       "      <td>2178</td>\n",
       "      <td>1939</td>\n",
       "      <td>4</td>\n",
       "      <td>2011-11-20 13:20:00</td>\n",
       "      <td>5.95</td>\n",
       "      <td>15044.0</td>\n",
       "      <td>35</td>\n",
       "      <td>2011.0</td>\n",
       "      <td>11.0</td>\n",
       "      <td>20.0</td>\n",
       "      <td>13.0</td>\n",
       "      <td>20.0</td>\n",
       "    </tr>\n",
       "    <tr>\n",
       "      <th>3</th>\n",
       "      <td>3</td>\n",
       "      <td>16971</td>\n",
       "      <td>2115</td>\n",
       "      <td>2983</td>\n",
       "      <td>1</td>\n",
       "      <td>2011-11-22 12:07:00</td>\n",
       "      <td>0.83</td>\n",
       "      <td>15525.0</td>\n",
       "      <td>35</td>\n",
       "      <td>2011.0</td>\n",
       "      <td>11.0</td>\n",
       "      <td>22.0</td>\n",
       "      <td>12.0</td>\n",
       "      <td>7.0</td>\n",
       "    </tr>\n",
       "    <tr>\n",
       "      <th>4</th>\n",
       "      <td>4</td>\n",
       "      <td>6080</td>\n",
       "      <td>1210</td>\n",
       "      <td>2886</td>\n",
       "      <td>12</td>\n",
       "      <td>2011-05-06 09:00:00</td>\n",
       "      <td>1.65</td>\n",
       "      <td>13952.0</td>\n",
       "      <td>35</td>\n",
       "      <td>2011.0</td>\n",
       "      <td>5.0</td>\n",
       "      <td>6.0</td>\n",
       "      <td>9.0</td>\n",
       "      <td>0.0</td>\n",
       "    </tr>\n",
       "  </tbody>\n",
       "</table>\n",
       "</div>"
      ],
      "text/plain": [
       "   index  InvoiceNo  StockCode  Description  Quantity          InvoiceDate  \\\n",
       "0      0       6141       1583          144         3  2011-05-06 16:54:00   \n",
       "1      1       6349       1300         3682         6  2011-05-11 07:35:00   \n",
       "2      2      16783       2178         1939         4  2011-11-20 13:20:00   \n",
       "3      3      16971       2115         2983         1  2011-11-22 12:07:00   \n",
       "4      4       6080       1210         2886        12  2011-05-06 09:00:00   \n",
       "\n",
       "   UnitPrice  CustomerID  Country    Year  Month   Day  Hour  Minute  \n",
       "0       3.75     14056.0       35  2011.0    5.0   6.0  16.0    54.0  \n",
       "1       1.95     13098.0       35  2011.0    5.0  11.0   7.0    35.0  \n",
       "2       5.95     15044.0       35  2011.0   11.0  20.0  13.0    20.0  \n",
       "3       0.83     15525.0       35  2011.0   11.0  22.0  12.0     7.0  \n",
       "4       1.65     13952.0       35  2011.0    5.0   6.0   9.0     0.0  "
      ]
     },
     "execution_count": 26,
     "metadata": {},
     "output_type": "execute_result"
    }
   ],
   "source": [
    "train.head()"
   ]
  },
  {
   "cell_type": "markdown",
   "metadata": {},
   "source": [
    "### Analyzing unit price (Target)"
   ]
  },
  {
   "cell_type": "code",
   "execution_count": 27,
   "metadata": {
    "ExecuteTime": {
     "end_time": "2020-11-22T13:55:59.982580Z",
     "start_time": "2020-11-22T13:55:59.871314Z"
    }
   },
   "outputs": [],
   "source": [
    "unit_price_meta = train['UnitPrice'].value_counts()"
   ]
  },
  {
   "cell_type": "code",
   "execution_count": 28,
   "metadata": {
    "ExecuteTime": {
     "end_time": "2020-11-22T13:56:00.082126Z",
     "start_time": "2020-11-22T13:55:59.984554Z"
    }
   },
   "outputs": [
    {
     "name": "stdout",
     "output_type": "stream",
     "text": [
      "Top 10 repeating Unit price \n",
      "UnitPrice: Frequency\n",
      "\n",
      "1.25      32250\n",
      "1.65      25883\n",
      "2.95      18927\n",
      "0.85      18239\n",
      "0.42      15287\n",
      "          ...  \n",
      "1.12          9\n",
      "35.75         9\n",
      "2.17          9\n",
      "295.00        8\n",
      "10.00         8\n",
      "Name: UnitPrice, Length: 181, dtype: int64\n"
     ]
    }
   ],
   "source": [
    "print(\"Top 10 repeating Unit price \\nUnitPrice: Frequency\\n\")\n",
    "print(unit_price_meta[:10])"
   ]
  },
  {
   "cell_type": "code",
   "execution_count": 29,
   "metadata": {
    "ExecuteTime": {
     "end_time": "2020-11-22T13:56:01.485876Z",
     "start_time": "2020-11-22T13:56:00.084940Z"
    }
   },
   "outputs": [
    {
     "data": {
      "text/plain": [
       "<AxesSubplot:xlabel='UnitPrice', ylabel='Density'>"
      ]
     },
     "execution_count": 29,
     "metadata": {},
     "output_type": "execute_result"
    },
    {
     "data": {
      "image/png": "[encoded data removed]",
      "text/plain": [
       "<Figure size 432x288 with 1 Axes>"
      ]
     },
     "metadata": {
      "needs_background": "light"
     },
     "output_type": "display_data"
    }
   ],
   "source": [
    "sns.distplot(train['UnitPrice'])"
   ]
  },
  {
   "cell_type": "markdown",
   "metadata": {
    "ExecuteTime": {
     "end_time": "2020-11-10T03:17:53.905083Z",
     "start_time": "2020-11-10T03:17:53.900348Z"
    }
   },
   "source": [
    "### Analyzing country"
   ]
  },
  {
   "cell_type": "code",
   "execution_count": 30,
   "metadata": {
    "ExecuteTime": {
     "end_time": "2020-11-22T13:56:01.493641Z",
     "start_time": "2020-11-22T13:56:01.487745Z"
    }
   },
   "outputs": [],
   "source": [
    "country_meta = train['Country'].value_counts()"
   ]
  },
  {
   "cell_type": "code",
   "execution_count": 31,
   "metadata": {
    "ExecuteTime": {
     "end_time": "2020-11-22T13:56:01.700311Z",
     "start_time": "2020-11-22T13:56:01.495648Z"
    }
   },
   "outputs": [
    {
     "name": "stdout",
     "output_type": "stream",
     "text": [
      "\n",
      "Country: Frequency\n",
      "\n",
      "35    250668\n",
      "14      6648\n",
      "13      5939\n",
      "10      5238\n",
      "30      1773\n",
      "23      1680\n",
      "3       1435\n",
      "32      1293\n",
      "26      1044\n",
      "0        883\n",
      "24       766\n",
      "18       561\n",
      "6        536\n",
      "12       489\n",
      "7        419\n",
      "31       324\n",
      "1        303\n",
      "9        273\n",
      "25       244\n",
      "19       238\n",
      "33       210\n",
      "17       184\n",
      "36       169\n",
      "29       152\n",
      "16       132\n",
      "5        106\n",
      "15       101\n",
      "22        89\n",
      "34        52\n",
      "27        47\n",
      "11        40\n",
      "20        34\n",
      "8         26\n",
      "21        25\n",
      "4         20\n",
      "2         10\n",
      "28         8\n",
      "Name: Country, dtype: int64\n"
     ]
    }
   ],
   "source": [
    "print(\"\\nCountry: Frequency\\n\")\n",
    "print(country_meta)"
   ]
  },
  {
   "cell_type": "markdown",
   "metadata": {
    "ExecuteTime": {
     "end_time": "2020-11-10T03:49:47.927371Z",
     "start_time": "2020-11-10T03:49:47.925286Z"
    }
   },
   "source": [
    "# Preparing the data for modelling"
   ]
  },
  {
   "cell_type": "markdown",
   "metadata": {},
   "source": [
    "## Dropping un-necessary columns"
   ]
  },
  {
   "cell_type": "code",
   "execution_count": 32,
   "metadata": {
    "ExecuteTime": {
     "end_time": "2020-11-22T13:56:09.204914Z",
     "start_time": "2020-11-22T13:56:09.166939Z"
    }
   },
   "outputs": [
    {
     "data": {
      "text/html": [
       "<div>\n",
       "<style scoped>\n",
       "    .dataframe tbody tr th:only-of-type {\n",
       "        vertical-align: middle;\n",
       "    }\n",
       "\n",
       "    .dataframe tbody tr th {\n",
       "        vertical-align: top;\n",
       "    }\n",
       "\n",
       "    .dataframe thead th {\n",
       "        text-align: right;\n",
       "    }\n",
       "</style>\n",
       "<table border=\"1\" class=\"dataframe\">\n",
       "  <thead>\n",
       "    <tr style=\"text-align: right;\">\n",
       "      <th></th>\n",
       "      <th>StockCode</th>\n",
       "      <th>Description</th>\n",
       "      <th>Quantity</th>\n",
       "      <th>UnitPrice</th>\n",
       "      <th>Country</th>\n",
       "      <th>Year</th>\n",
       "      <th>Month</th>\n",
       "      <th>Day</th>\n",
       "      <th>Hour</th>\n",
       "      <th>Minute</th>\n",
       "    </tr>\n",
       "  </thead>\n",
       "  <tbody>\n",
       "    <tr>\n",
       "      <th>0</th>\n",
       "      <td>1583</td>\n",
       "      <td>144</td>\n",
       "      <td>3</td>\n",
       "      <td>3.75</td>\n",
       "      <td>35</td>\n",
       "      <td>2011.0</td>\n",
       "      <td>5.0</td>\n",
       "      <td>6.0</td>\n",
       "      <td>16.0</td>\n",
       "      <td>54.0</td>\n",
       "    </tr>\n",
       "    <tr>\n",
       "      <th>1</th>\n",
       "      <td>1300</td>\n",
       "      <td>3682</td>\n",
       "      <td>6</td>\n",
       "      <td>1.95</td>\n",
       "      <td>35</td>\n",
       "      <td>2011.0</td>\n",
       "      <td>5.0</td>\n",
       "      <td>11.0</td>\n",
       "      <td>7.0</td>\n",
       "      <td>35.0</td>\n",
       "    </tr>\n",
       "    <tr>\n",
       "      <th>2</th>\n",
       "      <td>2178</td>\n",
       "      <td>1939</td>\n",
       "      <td>4</td>\n",
       "      <td>5.95</td>\n",
       "      <td>35</td>\n",
       "      <td>2011.0</td>\n",
       "      <td>11.0</td>\n",
       "      <td>20.0</td>\n",
       "      <td>13.0</td>\n",
       "      <td>20.0</td>\n",
       "    </tr>\n",
       "    <tr>\n",
       "      <th>3</th>\n",
       "      <td>2115</td>\n",
       "      <td>2983</td>\n",
       "      <td>1</td>\n",
       "      <td>0.83</td>\n",
       "      <td>35</td>\n",
       "      <td>2011.0</td>\n",
       "      <td>11.0</td>\n",
       "      <td>22.0</td>\n",
       "      <td>12.0</td>\n",
       "      <td>7.0</td>\n",
       "    </tr>\n",
       "    <tr>\n",
       "      <th>4</th>\n",
       "      <td>1210</td>\n",
       "      <td>2886</td>\n",
       "      <td>12</td>\n",
       "      <td>1.65</td>\n",
       "      <td>35</td>\n",
       "      <td>2011.0</td>\n",
       "      <td>5.0</td>\n",
       "      <td>6.0</td>\n",
       "      <td>9.0</td>\n",
       "      <td>0.0</td>\n",
       "    </tr>\n",
       "  </tbody>\n",
       "</table>\n",
       "</div>"
      ],
      "text/plain": [
       "   StockCode  Description  Quantity  UnitPrice  Country    Year  Month   Day  \\\n",
       "0       1583          144         3       3.75       35  2011.0    5.0   6.0   \n",
       "1       1300         3682         6       1.95       35  2011.0    5.0  11.0   \n",
       "2       2178         1939         4       5.95       35  2011.0   11.0  20.0   \n",
       "3       2115         2983         1       0.83       35  2011.0   11.0  22.0   \n",
       "4       1210         2886        12       1.65       35  2011.0    5.0   6.0   \n",
       "\n",
       "   Hour  Minute  \n",
       "0  16.0    54.0  \n",
       "1   7.0    35.0  \n",
       "2  13.0    20.0  \n",
       "3  12.0     7.0  \n",
       "4   9.0     0.0  "
      ]
     },
     "execution_count": 32,
     "metadata": {},
     "output_type": "execute_result"
    }
   ],
   "source": [
    "train_new = train.drop(['InvoiceDate','CustomerID','InvoiceNo','index'],axis=1)\n",
    "train_new.head()"
   ]
  },
  {
   "cell_type": "markdown",
   "metadata": {},
   "source": [
    "## Splitting data into train and validation"
   ]
  },
  {
   "cell_type": "code",
   "execution_count": 33,
   "metadata": {
    "ExecuteTime": {
     "end_time": "2020-11-22T13:56:11.645311Z",
     "start_time": "2020-11-22T13:56:11.631599Z"
    }
   },
   "outputs": [],
   "source": [
    "x = train_new.drop(['UnitPrice'],axis=1)\n",
    "y = train_new['UnitPrice']"
   ]
  },
  {
   "cell_type": "code",
   "execution_count": 34,
   "metadata": {
    "ExecuteTime": {
     "end_time": "2020-11-22T13:56:13.523801Z",
     "start_time": "2020-11-22T13:56:13.482050Z"
    }
   },
   "outputs": [],
   "source": [
    "x_train, x_val, y_train, y_val = train_test_split(x, y, test_size=0.2, random_state=42)"
   ]
  },
  {
   "cell_type": "code",
   "execution_count": 35,
   "metadata": {
    "ExecuteTime": {
     "end_time": "2020-11-22T13:56:15.317741Z",
     "start_time": "2020-11-22T13:56:15.313146Z"
    }
   },
   "outputs": [
    {
     "name": "stdout",
     "output_type": "stream",
     "text": [
      "x_train : (225727, 9) | y_train : (225727,)\n",
      "x_val   : (56432, 9)  | y_val   : (56432,)\n"
     ]
    }
   ],
   "source": [
    "print(\"x_train : {0} | y_train : {1}\".format(x_train.shape,y_train.shape))\n",
    "print(\"x_val   : {0}  | y_val   : {1}\".format(x_val.shape,y_val.shape))"
   ]
  },
  {
   "cell_type": "markdown",
   "metadata": {},
   "source": [
    "## One hot encoding stock code"
   ]
  },
  {
   "cell_type": "code",
   "execution_count": 36,
   "metadata": {
    "ExecuteTime": {
     "end_time": "2020-11-22T13:56:18.433588Z",
     "start_time": "2020-11-22T13:56:17.620948Z"
    }
   },
   "outputs": [
    {
     "data": {
      "text/plain": [
       "CountVectorizer()"
      ]
     },
     "execution_count": 36,
     "metadata": {},
     "output_type": "execute_result"
    }
   ],
   "source": [
    "vectorizer1 = CountVectorizer()\n",
    "vectorizer1.fit(x_train['StockCode'].astype('str').values)"
   ]
  },
  {
   "cell_type": "code",
   "execution_count": 37,
   "metadata": {
    "ExecuteTime": {
     "end_time": "2020-11-22T13:56:20.629220Z",
     "start_time": "2020-11-22T13:56:19.619542Z"
    }
   },
   "outputs": [],
   "source": [
    "x_train_stock_code_bow = vectorizer1.transform(x_train['StockCode'].astype('str').values)\n",
    "x_val_stock_code_bow = vectorizer1.transform(x_val['StockCode'].astype('str').values)"
   ]
  },
  {
   "cell_type": "code",
   "execution_count": 38,
   "metadata": {
    "ExecuteTime": {
     "end_time": "2020-11-22T13:56:21.905474Z",
     "start_time": "2020-11-22T13:56:21.901574Z"
    }
   },
   "outputs": [
    {
     "name": "stdout",
     "output_type": "stream",
     "text": [
      "Stock code features\n",
      "\n",
      "x_train_stock_code_bow : (225727, 3568)\n",
      "x_val_stock_code_bow   : (56432, 3568)\n"
     ]
    }
   ],
   "source": [
    "print(\"Stock code features\\n\")\n",
    "print(\"x_train_stock_code_bow : {0}\".format(x_train_stock_code_bow.shape))\n",
    "print(\"x_val_stock_code_bow   : {0}\".format(x_val_stock_code_bow.shape))"
   ]
  },
  {
   "cell_type": "markdown",
   "metadata": {},
   "source": [
    "## One hot encoding description"
   ]
  },
  {
   "cell_type": "code",
   "execution_count": 39,
   "metadata": {
    "ExecuteTime": {
     "end_time": "2020-11-22T13:56:25.796928Z",
     "start_time": "2020-11-22T13:56:24.920389Z"
    }
   },
   "outputs": [
    {
     "data": {
      "text/plain": [
       "CountVectorizer()"
      ]
     },
     "execution_count": 39,
     "metadata": {},
     "output_type": "execute_result"
    }
   ],
   "source": [
    "vectorizer2 = CountVectorizer()\n",
    "vectorizer2.fit(x_train['Description'].astype('str').values)"
   ]
  },
  {
   "cell_type": "code",
   "execution_count": 40,
   "metadata": {
    "ExecuteTime": {
     "end_time": "2020-11-22T13:56:36.241523Z",
     "start_time": "2020-11-22T13:56:35.176900Z"
    }
   },
   "outputs": [],
   "source": [
    "x_train_description_bow = vectorizer2.transform(x_train['Description'].astype('str').values)\n",
    "x_val_description_bow = vectorizer2.transform(x_val['Description'].astype('str').values)"
   ]
  },
  {
   "cell_type": "code",
   "execution_count": 41,
   "metadata": {
    "ExecuteTime": {
     "end_time": "2020-11-22T13:56:38.284512Z",
     "start_time": "2020-11-22T13:56:38.280773Z"
    }
   },
   "outputs": [
    {
     "name": "stdout",
     "output_type": "stream",
     "text": [
      "Description features\n",
      "\n",
      "x_train_description_bow : (225727, 3757)\n",
      "x_val_description_bow   : (56432, 3757)\n"
     ]
    }
   ],
   "source": [
    "print(\"Description features\\n\")\n",
    "print(\"x_train_description_bow : {0}\".format(x_train_description_bow.shape))\n",
    "print(\"x_val_description_bow   : {0}\".format(x_val_description_bow.shape))"
   ]
  },
  {
   "cell_type": "markdown",
   "metadata": {},
   "source": [
    "## One hot encoding country"
   ]
  },
  {
   "cell_type": "code",
   "execution_count": 42,
   "metadata": {
    "ExecuteTime": {
     "end_time": "2020-11-22T13:56:41.615136Z",
     "start_time": "2020-11-22T13:56:40.817822Z"
    }
   },
   "outputs": [
    {
     "data": {
      "text/plain": [
       "CountVectorizer()"
      ]
     },
     "execution_count": 42,
     "metadata": {},
     "output_type": "execute_result"
    }
   ],
   "source": [
    "vectorizer3 = CountVectorizer()\n",
    "vectorizer3.fit(x_train['Country'].astype('str').values)"
   ]
  },
  {
   "cell_type": "code",
   "execution_count": 43,
   "metadata": {
    "ExecuteTime": {
     "end_time": "2020-11-22T13:56:44.729436Z",
     "start_time": "2020-11-22T13:56:43.774047Z"
    }
   },
   "outputs": [],
   "source": [
    "x_train_country_bow = vectorizer3.transform(x_train['Country'].astype('str').values)\n",
    "x_val_country_bow = vectorizer3.transform(x_val['Country'].astype('str').values)"
   ]
  },
  {
   "cell_type": "code",
   "execution_count": 44,
   "metadata": {
    "ExecuteTime": {
     "end_time": "2020-11-22T13:56:46.287757Z",
     "start_time": "2020-11-22T13:56:46.282793Z"
    }
   },
   "outputs": [
    {
     "name": "stdout",
     "output_type": "stream",
     "text": [
      "Country features\n",
      "\n",
      "x_train_country_bow : (225727, 27)\n",
      "x_val_country_bow   : (56432, 27)\n"
     ]
    }
   ],
   "source": [
    "print(\"Country features\\n\")\n",
    "print(\"x_train_country_bow : {0}\".format(x_train_country_bow.shape))\n",
    "print(\"x_val_country_bow   : {0}\".format(x_val_country_bow.shape))"
   ]
  },
  {
   "cell_type": "markdown",
   "metadata": {},
   "source": [
    "## One hot encoding year"
   ]
  },
  {
   "cell_type": "code",
   "execution_count": 45,
   "metadata": {
    "ExecuteTime": {
     "end_time": "2020-11-22T13:56:49.581949Z",
     "start_time": "2020-11-22T13:56:48.725125Z"
    }
   },
   "outputs": [
    {
     "data": {
      "text/plain": [
       "CountVectorizer()"
      ]
     },
     "execution_count": 45,
     "metadata": {},
     "output_type": "execute_result"
    }
   ],
   "source": [
    "vectorizer4 = CountVectorizer()\n",
    "vectorizer4.fit(x_train['Year'].astype('str').values)"
   ]
  },
  {
   "cell_type": "code",
   "execution_count": 46,
   "metadata": {
    "ExecuteTime": {
     "end_time": "2020-11-22T13:56:52.434656Z",
     "start_time": "2020-11-22T13:56:51.382027Z"
    }
   },
   "outputs": [],
   "source": [
    "x_train_year_bow = vectorizer4.transform(x_train['Year'].astype('str').values)\n",
    "x_val_year_bow = vectorizer4.transform(x_val['Year'].astype('str').values)"
   ]
  },
  {
   "cell_type": "code",
   "execution_count": 47,
   "metadata": {
    "ExecuteTime": {
     "end_time": "2020-11-22T13:56:53.733569Z",
     "start_time": "2020-11-22T13:56:53.729767Z"
    }
   },
   "outputs": [
    {
     "name": "stdout",
     "output_type": "stream",
     "text": [
      "Year features\n",
      "\n",
      "x_train_year_bow : (225727, 2)\n",
      "x_val_year_bow   : (56432, 2)\n"
     ]
    }
   ],
   "source": [
    "print(\"Year features\\n\")\n",
    "print(\"x_train_year_bow : {0}\".format(x_train_year_bow.shape))\n",
    "print(\"x_val_year_bow   : {0}\".format(x_val_year_bow.shape))"
   ]
  },
  {
   "cell_type": "markdown",
   "metadata": {},
   "source": [
    "## Stacking all features"
   ]
  },
  {
   "cell_type": "code",
   "execution_count": 48,
   "metadata": {
    "ExecuteTime": {
     "end_time": "2020-11-22T13:56:56.452560Z",
     "start_time": "2020-11-22T13:56:56.351811Z"
    }
   },
   "outputs": [],
   "source": [
    "x_tr = hstack((x_train_stock_code_bow,x_train_description_bow,x_train['Quantity'].values.reshape(-1,1),x_train_country_bow,x_train_year_bow,x_train['Month'].values.reshape(-1,1),x_train['Day'].values.reshape(-1,1),x_train['Hour'].values.reshape(-1,1),x_train['Minute'].values.reshape(-1,1)))\n",
    "x_vl = hstack((x_val_stock_code_bow,x_val_description_bow,x_val['Quantity'].values.reshape(-1,1),x_val_country_bow,x_val_year_bow,x_val['Month'].values.reshape(-1,1),x_val['Day'].values.reshape(-1,1),x_val['Hour'].values.reshape(-1,1),x_val['Minute'].values.reshape(-1,1)))"
   ]
  },
  {
   "cell_type": "code",
   "execution_count": 49,
   "metadata": {
    "ExecuteTime": {
     "end_time": "2020-11-22T13:56:58.363457Z",
     "start_time": "2020-11-22T13:56:58.359784Z"
    }
   },
   "outputs": [
    {
     "data": {
      "text/plain": [
       "(225727, 7359)"
      ]
     },
     "execution_count": 49,
     "metadata": {},
     "output_type": "execute_result"
    }
   ],
   "source": [
    "x_tr.shape"
   ]
  },
  {
   "cell_type": "code",
   "execution_count": 50,
   "metadata": {
    "ExecuteTime": {
     "end_time": "2020-11-22T13:57:00.399005Z",
     "start_time": "2020-11-22T13:57:00.395080Z"
    }
   },
   "outputs": [
    {
     "data": {
      "text/plain": [
       "(56432, 7359)"
      ]
     },
     "execution_count": 50,
     "metadata": {},
     "output_type": "execute_result"
    }
   ],
   "source": [
    "x_vl.shape"
   ]
  },
  {
   "cell_type": "markdown",
   "metadata": {},
   "source": [
    "## SVD"
   ]
  },
  {
   "cell_type": "code",
   "execution_count": 51,
   "metadata": {
    "ExecuteTime": {
     "end_time": "2020-11-22T13:57:03.914082Z",
     "start_time": "2020-11-22T13:57:02.370093Z"
    }
   },
   "outputs": [
    {
     "data": {
      "text/plain": [
       "TruncatedSVD(n_components=6, n_iter=7, random_state=42)"
      ]
     },
     "execution_count": 51,
     "metadata": {},
     "output_type": "execute_result"
    }
   ],
   "source": [
    "svd = TruncatedSVD(n_components=6, n_iter=7, random_state=42)\n",
    "svd.fit(x_tr)"
   ]
  },
  {
   "cell_type": "code",
   "execution_count": 52,
   "metadata": {
    "ExecuteTime": {
     "end_time": "2020-11-22T13:57:04.273389Z",
     "start_time": "2020-11-22T13:57:04.266722Z"
    }
   },
   "outputs": [
    {
     "name": "stdout",
     "output_type": "stream",
     "text": [
      "0.9999799912500051\n"
     ]
    }
   ],
   "source": [
    "print(svd.explained_variance_ratio_.sum())"
   ]
  },
  {
   "cell_type": "code",
   "execution_count": 53,
   "metadata": {
    "ExecuteTime": {
     "end_time": "2020-11-22T13:57:07.282529Z",
     "start_time": "2020-11-22T13:57:07.276197Z"
    }
   },
   "outputs": [
    {
     "name": "stdout",
     "output_type": "stream",
     "text": [
      "[9.96474590e-01 2.05012032e-03 1.09220653e-03 2.80600629e-04\n",
      " 8.12839820e-05 1.18931838e-06]\n"
     ]
    }
   ],
   "source": [
    "print(svd.explained_variance_ratio_)"
   ]
  },
  {
   "cell_type": "code",
   "execution_count": 54,
   "metadata": {
    "ExecuteTime": {
     "end_time": "2020-11-22T13:57:09.713276Z",
     "start_time": "2020-11-22T13:57:09.633917Z"
    }
   },
   "outputs": [],
   "source": [
    "x_tr_svd = svd.transform(x_tr)\n",
    "x_vl_svd = svd.transform(x_vl)"
   ]
  },
  {
   "cell_type": "code",
   "execution_count": 55,
   "metadata": {
    "ExecuteTime": {
     "end_time": "2020-11-22T13:57:11.839342Z",
     "start_time": "2020-11-22T13:57:11.834115Z"
    }
   },
   "outputs": [
    {
     "data": {
      "text/plain": [
       "(225727, 6)"
      ]
     },
     "execution_count": 55,
     "metadata": {},
     "output_type": "execute_result"
    }
   ],
   "source": [
    "x_tr_svd.shape"
   ]
  },
  {
   "cell_type": "code",
   "execution_count": 56,
   "metadata": {
    "ExecuteTime": {
     "end_time": "2020-11-22T13:57:13.640031Z",
     "start_time": "2020-11-22T13:57:13.636003Z"
    }
   },
   "outputs": [
    {
     "data": {
      "text/plain": [
       "(56432, 6)"
      ]
     },
     "execution_count": 56,
     "metadata": {},
     "output_type": "execute_result"
    }
   ],
   "source": [
    "x_vl_svd.shape"
   ]
  },
  {
   "cell_type": "markdown",
   "metadata": {},
   "source": [
    "# Modelling"
   ]
  },
  {
   "cell_type": "markdown",
   "metadata": {
    "ExecuteTime": {
     "end_time": "2020-11-21T20:25:38.624569Z",
     "start_time": "2020-11-21T20:25:38.622369Z"
    }
   },
   "source": [
    "## Model base"
   ]
  },
  {
   "cell_type": "code",
   "execution_count": 57,
   "metadata": {
    "ExecuteTime": {
     "end_time": "2020-11-22T13:57:20.879458Z",
     "start_time": "2020-11-22T13:57:20.806094Z"
    }
   },
   "outputs": [],
   "source": [
    "class Model:\n",
    "    \n",
    "    def __init__(self,estimator,x_train,y_train,x_val,y_val,params,name=\"None\"):\n",
    "        \n",
    "        self.estimator = estimator\n",
    "        self.x_train = x_train\n",
    "        self.y_train = y_train\n",
    "        self.x_val = x_val\n",
    "        self.y_val = y_val\n",
    "        self.params = params\n",
    "        self.name = name\n",
    "    \n",
    "    def print_results_without_tuning(self):\n",
    "        \n",
    "        print(\"\\n####    {0}   ####\\n\".format(self.name))\n",
    "        print(\"MSE on train      :\",mean_squared_error(self.y_train,self.estimator.predict(self.x_train)))\n",
    "        print(\"MSE on validation :\",mean_squared_error(self.y_val,self.estimator.predict(self.x_val)))\n",
    "        print(\"RMSE on train     :\",np.sqrt(mean_squared_error(self.y_train,self.estimator.predict(self.x_train))))\n",
    "        print(\"RMSE on validation:\",np.sqrt(mean_squared_error(y_val,self.estimator.predict(self.x_val))))\n",
    "        \n",
    "    def print_results_with_tuning(self):\n",
    "        \n",
    "        print(\"\\n####    {0}   ####\\n\".format(self.name))\n",
    "        print(\"\\Hyperparameters  :(Grid search)\\n{0}\\n\".format(self.best_params))\n",
    "        print(\"MSE on train      :\",mean_squared_error(self.y_train,self.estimator.predict(self.x_train)))\n",
    "        print(\"MSE on validation :\",mean_squared_error(self.y_val,self.estimator.predict(self.x_val)))\n",
    "        print(\"RMSE on train     :\",np.sqrt(mean_squared_error(self.y_train,self.estimator.predict(self.x_train))))\n",
    "        print(\"RMSE on validation:\",np.sqrt(mean_squared_error(y_val,self.estimator.predict(self.x_val))))\n",
    "        \n",
    "    def train(self):\n",
    "        \n",
    "        if self.params=={}:\n",
    "            print(\"\\nTraining....\\n\")\n",
    "            self.estimator.fit(self.x_train,self.y_train)\n",
    "            self.print_results_without_tuning()\n",
    "        else:\n",
    "            print(\"\\nTuning Hyperparameters....\\n\")\n",
    "            self.clf = GridSearchCV(self.estimator, self.params)\n",
    "            self.clf.fit(self.x_train,self.y_train)\n",
    "            self.best_params = self.clf.best_params_\n",
    "            print(\"\\nTraining with best hyperparameters....\\n\")\n",
    "            self.estimator(self.best_params)\n",
    "            self.print_results_with_tuning()"
   ]
  },
  {
   "cell_type": "markdown",
   "metadata": {},
   "source": [
    "## Linear Regression"
   ]
  },
  {
   "cell_type": "code",
   "execution_count": 58,
   "metadata": {
    "ExecuteTime": {
     "end_time": "2020-11-22T13:57:23.127374Z",
     "start_time": "2020-11-22T13:57:23.077483Z"
    }
   },
   "outputs": [
    {
     "name": "stdout",
     "output_type": "stream",
     "text": [
      "\n",
      "Training....\n",
      "\n",
      "\n",
      "####    Linear Regression   ####\n",
      "\n",
      "MSE on train      : 7565.470291012837\n",
      "MSE on validation : 754.4447132461875\n",
      "RMSE on train     : 86.97971195062006\n",
      "RMSE on validation: 27.467156992418918\n"
     ]
    }
   ],
   "source": [
    "reg1 = LinearRegression()\n",
    "m1 = Model(reg1,x_tr_svd,y_train,x_vl_svd,y_val,params={},name=\"Linear Regression\")\n",
    "m1.train()"
   ]
  },
  {
   "cell_type": "markdown",
   "metadata": {
    "ExecuteTime": {
     "end_time": "2020-11-22T07:53:41.485687Z",
     "start_time": "2020-11-22T07:53:41.481982Z"
    }
   },
   "source": [
    "## Decision tree regression"
   ]
  },
  {
   "cell_type": "code",
   "execution_count": 59,
   "metadata": {
    "ExecuteTime": {
     "end_time": "2020-11-22T13:57:30.326701Z",
     "start_time": "2020-11-22T13:57:25.541367Z"
    }
   },
   "outputs": [
    {
     "name": "stdout",
     "output_type": "stream",
     "text": [
      "\n",
      "Training....\n",
      "\n",
      "\n",
      "####    Decision Tree Regression   ####\n",
      "\n",
      "MSE on train      : 25.741274051695935\n",
      "MSE on validation : 27779.609530687263\n",
      "RMSE on train     : 5.073585916459476\n",
      "RMSE on validation: 166.6721618348045\n"
     ]
    }
   ],
   "source": [
    "reg2 = DecisionTreeRegressor()\n",
    "m2 = Model(reg2,x_tr_svd,y_train,x_vl_svd,y_val,params={},name=\"Decision Tree Regression\")\n",
    "m2.train()"
   ]
  },
  {
   "cell_type": "markdown",
   "metadata": {},
   "source": [
    "## Random forest regression"
   ]
  },
  {
   "cell_type": "code",
   "execution_count": 60,
   "metadata": {
    "ExecuteTime": {
     "end_time": "2020-11-22T13:59:57.259800Z",
     "start_time": "2020-11-22T13:57:30.328620Z"
    }
   },
   "outputs": [
    {
     "name": "stdout",
     "output_type": "stream",
     "text": [
      "\n",
      "Training....\n",
      "\n",
      "\n",
      "####    Random Forest Regression   ####\n",
      "\n",
      "MSE on train      : 832.2950032043083\n",
      "MSE on validation : 1849.3116104980434\n",
      "RMSE on train     : 28.849523448478458\n",
      "RMSE on validation: 43.00362322523584\n"
     ]
    }
   ],
   "source": [
    "reg3 = RandomForestRegressor(n_estimators=50)\n",
    "m3 = Model(reg3,x_tr_svd,y_train,x_vl_svd,y_val,params={},name=\"Random Forest Regression\")\n",
    "m3.train()"
   ]
  },
  {
   "cell_type": "markdown",
   "metadata": {},
   "source": [
    "## XGBOOST Regressor"
   ]
  },
  {
   "cell_type": "code",
   "execution_count": 62,
   "metadata": {
    "ExecuteTime": {
     "end_time": "2020-11-22T14:01:00.144964Z",
     "start_time": "2020-11-22T14:00:44.692046Z"
    }
   },
   "outputs": [
    {
     "name": "stdout",
     "output_type": "stream",
     "text": [
      "\n",
      "Training....\n",
      "\n",
      "\n",
      "####    XGBOOST Regression   ####\n",
      "\n",
      "MSE on train      : 63.633772595338705\n",
      "MSE on validation : 1076.3906428926146\n",
      "RMSE on train     : 7.97707794843066\n",
      "RMSE on validation: 32.8083928727485\n"
     ]
    }
   ],
   "source": [
    "reg4 = XGBRegressor()\n",
    "m4 = Model(reg4,x_tr_svd,y_train,x_vl_svd,y_val,params={},name=\"XGBOOST Regression\")\n",
    "m4.train()"
   ]
  },
  {
   "cell_type": "code",
   "execution_count": 81,
   "metadata": {
    "ExecuteTime": {
     "end_time": "2020-11-22T14:18:12.635899Z",
     "start_time": "2020-11-22T14:18:12.632507Z"
    }
   },
   "outputs": [],
   "source": [
    "exec(\"LinearRegression()\")"
   ]
  },
  {
   "cell_type": "markdown",
   "metadata": {},
   "source": [
    "# Prediction"
   ]
  },
  {
   "cell_type": "code",
   "execution_count": 63,
   "metadata": {
    "ExecuteTime": {
     "end_time": "2020-11-22T14:11:42.541861Z",
     "start_time": "2020-11-22T14:11:42.447658Z"
    }
   },
   "outputs": [],
   "source": [
    "test = pd.read_csv('data/Test.csv')"
   ]
  },
  {
   "cell_type": "code",
   "execution_count": 64,
   "metadata": {
    "ExecuteTime": {
     "end_time": "2020-11-22T14:11:43.483105Z",
     "start_time": "2020-11-22T14:11:43.460524Z"
    }
   },
   "outputs": [
    {
     "data": {
      "text/html": [
       "<div>\n",
       "<style scoped>\n",
       "    .dataframe tbody tr th:only-of-type {\n",
       "        vertical-align: middle;\n",
       "    }\n",
       "\n",
       "    .dataframe tbody tr th {\n",
       "        vertical-align: top;\n",
       "    }\n",
       "\n",
       "    .dataframe thead th {\n",
       "        text-align: right;\n",
       "    }\n",
       "</style>\n",
       "<table border=\"1\" class=\"dataframe\">\n",
       "  <thead>\n",
       "    <tr style=\"text-align: right;\">\n",
       "      <th></th>\n",
       "      <th>InvoiceNo</th>\n",
       "      <th>StockCode</th>\n",
       "      <th>Description</th>\n",
       "      <th>Quantity</th>\n",
       "      <th>InvoiceDate</th>\n",
       "      <th>CustomerID</th>\n",
       "      <th>Country</th>\n",
       "    </tr>\n",
       "  </thead>\n",
       "  <tbody>\n",
       "    <tr>\n",
       "      <th>0</th>\n",
       "      <td>3139</td>\n",
       "      <td>1709</td>\n",
       "      <td>1079</td>\n",
       "      <td>3</td>\n",
       "      <td>2011-02-22 15:22:00</td>\n",
       "      <td>16161.0</td>\n",
       "      <td>35</td>\n",
       "    </tr>\n",
       "    <tr>\n",
       "      <th>1</th>\n",
       "      <td>617</td>\n",
       "      <td>510</td>\n",
       "      <td>3457</td>\n",
       "      <td>1</td>\n",
       "      <td>2010-12-08 12:46:00</td>\n",
       "      <td>17341.0</td>\n",
       "      <td>35</td>\n",
       "    </tr>\n",
       "    <tr>\n",
       "      <th>2</th>\n",
       "      <td>14653</td>\n",
       "      <td>604</td>\n",
       "      <td>694</td>\n",
       "      <td>36</td>\n",
       "      <td>2011-10-25 13:53:00</td>\n",
       "      <td>15158.0</td>\n",
       "      <td>35</td>\n",
       "    </tr>\n",
       "    <tr>\n",
       "      <th>3</th>\n",
       "      <td>8634</td>\n",
       "      <td>1478</td>\n",
       "      <td>3473</td>\n",
       "      <td>2</td>\n",
       "      <td>2011-06-27 12:38:00</td>\n",
       "      <td>16033.0</td>\n",
       "      <td>35</td>\n",
       "    </tr>\n",
       "    <tr>\n",
       "      <th>4</th>\n",
       "      <td>15546</td>\n",
       "      <td>3216</td>\n",
       "      <td>871</td>\n",
       "      <td>1</td>\n",
       "      <td>2011-11-06 16:14:00</td>\n",
       "      <td>15351.0</td>\n",
       "      <td>35</td>\n",
       "    </tr>\n",
       "  </tbody>\n",
       "</table>\n",
       "</div>"
      ],
      "text/plain": [
       "   InvoiceNo  StockCode  Description  Quantity          InvoiceDate  \\\n",
       "0       3139       1709         1079         3  2011-02-22 15:22:00   \n",
       "1        617        510         3457         1  2010-12-08 12:46:00   \n",
       "2      14653        604          694        36  2011-10-25 13:53:00   \n",
       "3       8634       1478         3473         2  2011-06-27 12:38:00   \n",
       "4      15546       3216          871         1  2011-11-06 16:14:00   \n",
       "\n",
       "   CustomerID  Country  \n",
       "0     16161.0       35  \n",
       "1     17341.0       35  \n",
       "2     15158.0       35  \n",
       "3     16033.0       35  \n",
       "4     15351.0       35  "
      ]
     },
     "execution_count": 64,
     "metadata": {},
     "output_type": "execute_result"
    }
   ],
   "source": [
    "test.head()"
   ]
  },
  {
   "cell_type": "code",
   "execution_count": 65,
   "metadata": {
    "ExecuteTime": {
     "end_time": "2020-11-22T14:11:44.404522Z",
     "start_time": "2020-11-22T14:11:44.382488Z"
    }
   },
   "outputs": [
    {
     "data": {
      "text/html": [
       "<div>\n",
       "<style scoped>\n",
       "    .dataframe tbody tr th:only-of-type {\n",
       "        vertical-align: middle;\n",
       "    }\n",
       "\n",
       "    .dataframe tbody tr th {\n",
       "        vertical-align: top;\n",
       "    }\n",
       "\n",
       "    .dataframe thead th {\n",
       "        text-align: right;\n",
       "    }\n",
       "</style>\n",
       "<table border=\"1\" class=\"dataframe\">\n",
       "  <thead>\n",
       "    <tr style=\"text-align: right;\">\n",
       "      <th></th>\n",
       "      <th>InvoiceNo</th>\n",
       "      <th>StockCode</th>\n",
       "      <th>Description</th>\n",
       "      <th>Quantity</th>\n",
       "      <th>InvoiceDate</th>\n",
       "      <th>CustomerID</th>\n",
       "      <th>Country</th>\n",
       "      <th>Year</th>\n",
       "      <th>Month</th>\n",
       "      <th>Day</th>\n",
       "      <th>Hour</th>\n",
       "      <th>Minute</th>\n",
       "    </tr>\n",
       "  </thead>\n",
       "  <tbody>\n",
       "    <tr>\n",
       "      <th>0</th>\n",
       "      <td>3139</td>\n",
       "      <td>1709</td>\n",
       "      <td>1079</td>\n",
       "      <td>3</td>\n",
       "      <td>2011-02-22 15:22:00</td>\n",
       "      <td>16161.0</td>\n",
       "      <td>35</td>\n",
       "      <td></td>\n",
       "      <td></td>\n",
       "      <td></td>\n",
       "      <td></td>\n",
       "      <td></td>\n",
       "    </tr>\n",
       "    <tr>\n",
       "      <th>1</th>\n",
       "      <td>617</td>\n",
       "      <td>510</td>\n",
       "      <td>3457</td>\n",
       "      <td>1</td>\n",
       "      <td>2010-12-08 12:46:00</td>\n",
       "      <td>17341.0</td>\n",
       "      <td>35</td>\n",
       "      <td></td>\n",
       "      <td></td>\n",
       "      <td></td>\n",
       "      <td></td>\n",
       "      <td></td>\n",
       "    </tr>\n",
       "    <tr>\n",
       "      <th>2</th>\n",
       "      <td>14653</td>\n",
       "      <td>604</td>\n",
       "      <td>694</td>\n",
       "      <td>36</td>\n",
       "      <td>2011-10-25 13:53:00</td>\n",
       "      <td>15158.0</td>\n",
       "      <td>35</td>\n",
       "      <td></td>\n",
       "      <td></td>\n",
       "      <td></td>\n",
       "      <td></td>\n",
       "      <td></td>\n",
       "    </tr>\n",
       "    <tr>\n",
       "      <th>3</th>\n",
       "      <td>8634</td>\n",
       "      <td>1478</td>\n",
       "      <td>3473</td>\n",
       "      <td>2</td>\n",
       "      <td>2011-06-27 12:38:00</td>\n",
       "      <td>16033.0</td>\n",
       "      <td>35</td>\n",
       "      <td></td>\n",
       "      <td></td>\n",
       "      <td></td>\n",
       "      <td></td>\n",
       "      <td></td>\n",
       "    </tr>\n",
       "    <tr>\n",
       "      <th>4</th>\n",
       "      <td>15546</td>\n",
       "      <td>3216</td>\n",
       "      <td>871</td>\n",
       "      <td>1</td>\n",
       "      <td>2011-11-06 16:14:00</td>\n",
       "      <td>15351.0</td>\n",
       "      <td>35</td>\n",
       "      <td></td>\n",
       "      <td></td>\n",
       "      <td></td>\n",
       "      <td></td>\n",
       "      <td></td>\n",
       "    </tr>\n",
       "  </tbody>\n",
       "</table>\n",
       "</div>"
      ],
      "text/plain": [
       "   InvoiceNo  StockCode  Description  Quantity          InvoiceDate  \\\n",
       "0       3139       1709         1079         3  2011-02-22 15:22:00   \n",
       "1        617        510         3457         1  2010-12-08 12:46:00   \n",
       "2      14653        604          694        36  2011-10-25 13:53:00   \n",
       "3       8634       1478         3473         2  2011-06-27 12:38:00   \n",
       "4      15546       3216          871         1  2011-11-06 16:14:00   \n",
       "\n",
       "   CustomerID  Country Year Month Day Hour Minute  \n",
       "0     16161.0       35                             \n",
       "1     17341.0       35                             \n",
       "2     15158.0       35                             \n",
       "3     16033.0       35                             \n",
       "4     15351.0       35                             "
      ]
     },
     "execution_count": 65,
     "metadata": {},
     "output_type": "execute_result"
    }
   ],
   "source": [
    "test['Year'] = ''\n",
    "test['Month'] = ''\n",
    "test['Day'] = ''\n",
    "test['Hour'] = ''\n",
    "test['Minute'] = ''\n",
    "test.head()"
   ]
  },
  {
   "cell_type": "code",
   "execution_count": 66,
   "metadata": {
    "ExecuteTime": {
     "end_time": "2020-11-22T14:11:45.514467Z",
     "start_time": "2020-11-22T14:11:45.487755Z"
    }
   },
   "outputs": [],
   "source": [
    "InvoiceDate = pd.to_datetime(test['InvoiceDate'])"
   ]
  },
  {
   "cell_type": "code",
   "execution_count": 67,
   "metadata": {
    "ExecuteTime": {
     "end_time": "2020-11-22T14:11:54.440190Z",
     "start_time": "2020-11-22T14:11:46.323427Z"
    }
   },
   "outputs": [
    {
     "name": "stderr",
     "output_type": "stream",
     "text": [
      "100%|██████████| 122049/122049 [00:08<00:00, 15057.42it/s]\n"
     ]
    }
   ],
   "source": [
    "year = np.zeros(len(test))\n",
    "month = np.zeros(len(test))\n",
    "day = np.zeros(len(test))\n",
    "hour = np.zeros(len(test))\n",
    "minute = np.zeros(len(test))\n",
    "for i in tqdm(range(len(test))):\n",
    "    year[i] = InvoiceDate[i].year\n",
    "    month[i] = InvoiceDate[i].month\n",
    "    day[i] = InvoiceDate[i].day\n",
    "    hour[i] = InvoiceDate[i].hour\n",
    "    minute[i] = InvoiceDate[i].minute"
   ]
  },
  {
   "cell_type": "code",
   "execution_count": 68,
   "metadata": {
    "ExecuteTime": {
     "end_time": "2020-11-22T14:11:54.448044Z",
     "start_time": "2020-11-22T14:11:54.442019Z"
    }
   },
   "outputs": [],
   "source": [
    "test['Year'] = year\n",
    "test['Month'] = month\n",
    "test['Day'] = day\n",
    "test['Hour'] = hour\n",
    "test['Minute'] = minute"
   ]
  },
  {
   "cell_type": "code",
   "execution_count": 69,
   "metadata": {
    "ExecuteTime": {
     "end_time": "2020-11-22T14:11:54.656291Z",
     "start_time": "2020-11-22T14:11:54.451009Z"
    }
   },
   "outputs": [
    {
     "data": {
      "text/html": [
       "<div>\n",
       "<style scoped>\n",
       "    .dataframe tbody tr th:only-of-type {\n",
       "        vertical-align: middle;\n",
       "    }\n",
       "\n",
       "    .dataframe tbody tr th {\n",
       "        vertical-align: top;\n",
       "    }\n",
       "\n",
       "    .dataframe thead th {\n",
       "        text-align: right;\n",
       "    }\n",
       "</style>\n",
       "<table border=\"1\" class=\"dataframe\">\n",
       "  <thead>\n",
       "    <tr style=\"text-align: right;\">\n",
       "      <th></th>\n",
       "      <th>InvoiceNo</th>\n",
       "      <th>StockCode</th>\n",
       "      <th>Description</th>\n",
       "      <th>Quantity</th>\n",
       "      <th>InvoiceDate</th>\n",
       "      <th>CustomerID</th>\n",
       "      <th>Country</th>\n",
       "      <th>Year</th>\n",
       "      <th>Month</th>\n",
       "      <th>Day</th>\n",
       "      <th>Hour</th>\n",
       "      <th>Minute</th>\n",
       "    </tr>\n",
       "  </thead>\n",
       "  <tbody>\n",
       "    <tr>\n",
       "      <th>0</th>\n",
       "      <td>3139</td>\n",
       "      <td>1709</td>\n",
       "      <td>1079</td>\n",
       "      <td>3</td>\n",
       "      <td>2011-02-22 15:22:00</td>\n",
       "      <td>16161.0</td>\n",
       "      <td>35</td>\n",
       "      <td>2011.0</td>\n",
       "      <td>2.0</td>\n",
       "      <td>22.0</td>\n",
       "      <td>15.0</td>\n",
       "      <td>22.0</td>\n",
       "    </tr>\n",
       "    <tr>\n",
       "      <th>1</th>\n",
       "      <td>617</td>\n",
       "      <td>510</td>\n",
       "      <td>3457</td>\n",
       "      <td>1</td>\n",
       "      <td>2010-12-08 12:46:00</td>\n",
       "      <td>17341.0</td>\n",
       "      <td>35</td>\n",
       "      <td>2010.0</td>\n",
       "      <td>12.0</td>\n",
       "      <td>8.0</td>\n",
       "      <td>12.0</td>\n",
       "      <td>46.0</td>\n",
       "    </tr>\n",
       "    <tr>\n",
       "      <th>2</th>\n",
       "      <td>14653</td>\n",
       "      <td>604</td>\n",
       "      <td>694</td>\n",
       "      <td>36</td>\n",
       "      <td>2011-10-25 13:53:00</td>\n",
       "      <td>15158.0</td>\n",
       "      <td>35</td>\n",
       "      <td>2011.0</td>\n",
       "      <td>10.0</td>\n",
       "      <td>25.0</td>\n",
       "      <td>13.0</td>\n",
       "      <td>53.0</td>\n",
       "    </tr>\n",
       "    <tr>\n",
       "      <th>3</th>\n",
       "      <td>8634</td>\n",
       "      <td>1478</td>\n",
       "      <td>3473</td>\n",
       "      <td>2</td>\n",
       "      <td>2011-06-27 12:38:00</td>\n",
       "      <td>16033.0</td>\n",
       "      <td>35</td>\n",
       "      <td>2011.0</td>\n",
       "      <td>6.0</td>\n",
       "      <td>27.0</td>\n",
       "      <td>12.0</td>\n",
       "      <td>38.0</td>\n",
       "    </tr>\n",
       "    <tr>\n",
       "      <th>4</th>\n",
       "      <td>15546</td>\n",
       "      <td>3216</td>\n",
       "      <td>871</td>\n",
       "      <td>1</td>\n",
       "      <td>2011-11-06 16:14:00</td>\n",
       "      <td>15351.0</td>\n",
       "      <td>35</td>\n",
       "      <td>2011.0</td>\n",
       "      <td>11.0</td>\n",
       "      <td>6.0</td>\n",
       "      <td>16.0</td>\n",
       "      <td>14.0</td>\n",
       "    </tr>\n",
       "  </tbody>\n",
       "</table>\n",
       "</div>"
      ],
      "text/plain": [
       "   InvoiceNo  StockCode  Description  Quantity          InvoiceDate  \\\n",
       "0       3139       1709         1079         3  2011-02-22 15:22:00   \n",
       "1        617        510         3457         1  2010-12-08 12:46:00   \n",
       "2      14653        604          694        36  2011-10-25 13:53:00   \n",
       "3       8634       1478         3473         2  2011-06-27 12:38:00   \n",
       "4      15546       3216          871         1  2011-11-06 16:14:00   \n",
       "\n",
       "   CustomerID  Country    Year  Month   Day  Hour  Minute  \n",
       "0     16161.0       35  2011.0    2.0  22.0  15.0    22.0  \n",
       "1     17341.0       35  2010.0   12.0   8.0  12.0    46.0  \n",
       "2     15158.0       35  2011.0   10.0  25.0  13.0    53.0  \n",
       "3     16033.0       35  2011.0    6.0  27.0  12.0    38.0  \n",
       "4     15351.0       35  2011.0   11.0   6.0  16.0    14.0  "
      ]
     },
     "execution_count": 69,
     "metadata": {},
     "output_type": "execute_result"
    }
   ],
   "source": [
    "test.head()"
   ]
  },
  {
   "cell_type": "code",
   "execution_count": 70,
   "metadata": {
    "ExecuteTime": {
     "end_time": "2020-11-22T14:11:55.204079Z",
     "start_time": "2020-11-22T14:11:54.817119Z"
    }
   },
   "outputs": [],
   "source": [
    "test_new = test.drop(['InvoiceNo','InvoiceDate','CustomerID'],axis=1)"
   ]
  },
  {
   "cell_type": "code",
   "execution_count": 71,
   "metadata": {
    "ExecuteTime": {
     "end_time": "2020-11-22T14:11:57.265905Z",
     "start_time": "2020-11-22T14:11:57.249944Z"
    }
   },
   "outputs": [
    {
     "data": {
      "text/html": [
       "<div>\n",
       "<style scoped>\n",
       "    .dataframe tbody tr th:only-of-type {\n",
       "        vertical-align: middle;\n",
       "    }\n",
       "\n",
       "    .dataframe tbody tr th {\n",
       "        vertical-align: top;\n",
       "    }\n",
       "\n",
       "    .dataframe thead th {\n",
       "        text-align: right;\n",
       "    }\n",
       "</style>\n",
       "<table border=\"1\" class=\"dataframe\">\n",
       "  <thead>\n",
       "    <tr style=\"text-align: right;\">\n",
       "      <th></th>\n",
       "      <th>StockCode</th>\n",
       "      <th>Description</th>\n",
       "      <th>Quantity</th>\n",
       "      <th>Country</th>\n",
       "      <th>Year</th>\n",
       "      <th>Month</th>\n",
       "      <th>Day</th>\n",
       "      <th>Hour</th>\n",
       "      <th>Minute</th>\n",
       "    </tr>\n",
       "  </thead>\n",
       "  <tbody>\n",
       "    <tr>\n",
       "      <th>0</th>\n",
       "      <td>1709</td>\n",
       "      <td>1079</td>\n",
       "      <td>3</td>\n",
       "      <td>35</td>\n",
       "      <td>2011.0</td>\n",
       "      <td>2.0</td>\n",
       "      <td>22.0</td>\n",
       "      <td>15.0</td>\n",
       "      <td>22.0</td>\n",
       "    </tr>\n",
       "    <tr>\n",
       "      <th>1</th>\n",
       "      <td>510</td>\n",
       "      <td>3457</td>\n",
       "      <td>1</td>\n",
       "      <td>35</td>\n",
       "      <td>2010.0</td>\n",
       "      <td>12.0</td>\n",
       "      <td>8.0</td>\n",
       "      <td>12.0</td>\n",
       "      <td>46.0</td>\n",
       "    </tr>\n",
       "    <tr>\n",
       "      <th>2</th>\n",
       "      <td>604</td>\n",
       "      <td>694</td>\n",
       "      <td>36</td>\n",
       "      <td>35</td>\n",
       "      <td>2011.0</td>\n",
       "      <td>10.0</td>\n",
       "      <td>25.0</td>\n",
       "      <td>13.0</td>\n",
       "      <td>53.0</td>\n",
       "    </tr>\n",
       "    <tr>\n",
       "      <th>3</th>\n",
       "      <td>1478</td>\n",
       "      <td>3473</td>\n",
       "      <td>2</td>\n",
       "      <td>35</td>\n",
       "      <td>2011.0</td>\n",
       "      <td>6.0</td>\n",
       "      <td>27.0</td>\n",
       "      <td>12.0</td>\n",
       "      <td>38.0</td>\n",
       "    </tr>\n",
       "    <tr>\n",
       "      <th>4</th>\n",
       "      <td>3216</td>\n",
       "      <td>871</td>\n",
       "      <td>1</td>\n",
       "      <td>35</td>\n",
       "      <td>2011.0</td>\n",
       "      <td>11.0</td>\n",
       "      <td>6.0</td>\n",
       "      <td>16.0</td>\n",
       "      <td>14.0</td>\n",
       "    </tr>\n",
       "  </tbody>\n",
       "</table>\n",
       "</div>"
      ],
      "text/plain": [
       "   StockCode  Description  Quantity  Country    Year  Month   Day  Hour  \\\n",
       "0       1709         1079         3       35  2011.0    2.0  22.0  15.0   \n",
       "1        510         3457         1       35  2010.0   12.0   8.0  12.0   \n",
       "2        604          694        36       35  2011.0   10.0  25.0  13.0   \n",
       "3       1478         3473         2       35  2011.0    6.0  27.0  12.0   \n",
       "4       3216          871         1       35  2011.0   11.0   6.0  16.0   \n",
       "\n",
       "   Minute  \n",
       "0    22.0  \n",
       "1    46.0  \n",
       "2    53.0  \n",
       "3    38.0  \n",
       "4    14.0  "
      ]
     },
     "execution_count": 71,
     "metadata": {},
     "output_type": "execute_result"
    }
   ],
   "source": [
    "test_new.head()"
   ]
  },
  {
   "cell_type": "code",
   "execution_count": 72,
   "metadata": {
    "ExecuteTime": {
     "end_time": "2020-11-22T14:12:01.457307Z",
     "start_time": "2020-11-22T14:11:59.708863Z"
    }
   },
   "outputs": [],
   "source": [
    "x_test_stock_code_bow = vectorizer1.transform(test_new['StockCode'].astype('str').values)\n",
    "x_test_description_bow = vectorizer2.transform(test_new['Description'].astype('str').values)\n",
    "x_test_country_bow = vectorizer3.transform(test_new['Country'].astype('str').values)\n",
    "x_test_year_bow = vectorizer4.transform(test_new['Year'].astype('str').values)"
   ]
  },
  {
   "cell_type": "code",
   "execution_count": 73,
   "metadata": {
    "ExecuteTime": {
     "end_time": "2020-11-22T14:12:02.096739Z",
     "start_time": "2020-11-22T14:12:02.051822Z"
    }
   },
   "outputs": [],
   "source": [
    "x_ts = hstack((x_test_stock_code_bow,x_test_description_bow,test_new['Quantity'].values.reshape(-1,1),x_test_country_bow,x_test_year_bow,test_new['Month'].values.reshape(-1,1),test_new['Day'].values.reshape(-1,1),test_new['Hour'].values.reshape(-1,1),test_new['Minute'].values.reshape(-1,1)))"
   ]
  },
  {
   "cell_type": "code",
   "execution_count": 74,
   "metadata": {
    "ExecuteTime": {
     "end_time": "2020-11-22T14:12:04.840103Z",
     "start_time": "2020-11-22T14:12:04.792142Z"
    }
   },
   "outputs": [],
   "source": [
    "x_ts_svd = svd.transform(x_ts)"
   ]
  },
  {
   "cell_type": "code",
   "execution_count": 75,
   "metadata": {
    "ExecuteTime": {
     "end_time": "2020-11-22T14:12:09.924136Z",
     "start_time": "2020-11-22T14:12:09.681290Z"
    }
   },
   "outputs": [],
   "source": [
    "pred = reg4.predict(x_ts_svd)"
   ]
  },
  {
   "cell_type": "code",
   "execution_count": 76,
   "metadata": {
    "ExecuteTime": {
     "end_time": "2020-11-22T14:12:12.076286Z",
     "start_time": "2020-11-22T14:12:12.067428Z"
    }
   },
   "outputs": [
    {
     "data": {
      "text/html": [
       "<div>\n",
       "<style scoped>\n",
       "    .dataframe tbody tr th:only-of-type {\n",
       "        vertical-align: middle;\n",
       "    }\n",
       "\n",
       "    .dataframe tbody tr th {\n",
       "        vertical-align: top;\n",
       "    }\n",
       "\n",
       "    .dataframe thead th {\n",
       "        text-align: right;\n",
       "    }\n",
       "</style>\n",
       "<table border=\"1\" class=\"dataframe\">\n",
       "  <thead>\n",
       "    <tr style=\"text-align: right;\">\n",
       "      <th></th>\n",
       "      <th>UnitPrice</th>\n",
       "    </tr>\n",
       "  </thead>\n",
       "  <tbody>\n",
       "    <tr>\n",
       "      <th>0</th>\n",
       "      <td>3.017162</td>\n",
       "    </tr>\n",
       "    <tr>\n",
       "      <th>1</th>\n",
       "      <td>2.765800</td>\n",
       "    </tr>\n",
       "    <tr>\n",
       "      <th>2</th>\n",
       "      <td>1.373248</td>\n",
       "    </tr>\n",
       "    <tr>\n",
       "      <th>3</th>\n",
       "      <td>4.014705</td>\n",
       "    </tr>\n",
       "    <tr>\n",
       "      <th>4</th>\n",
       "      <td>4.729604</td>\n",
       "    </tr>\n",
       "  </tbody>\n",
       "</table>\n",
       "</div>"
      ],
      "text/plain": [
       "   UnitPrice\n",
       "0   3.017162\n",
       "1   2.765800\n",
       "2   1.373248\n",
       "3   4.014705\n",
       "4   4.729604"
      ]
     },
     "execution_count": 76,
     "metadata": {},
     "output_type": "execute_result"
    }
   ],
   "source": [
    "pred_df = pd.DataFrame(pred,columns=['UnitPrice'])\n",
    "pred_df.head()"
   ]
  },
  {
   "cell_type": "code",
   "execution_count": 78,
   "metadata": {
    "ExecuteTime": {
     "end_time": "2020-11-22T14:12:22.040312Z",
     "start_time": "2020-11-22T14:12:21.782607Z"
    }
   },
   "outputs": [],
   "source": [
    "pred_df.to_csv('my_submission_file.csv', index=False)"
   ]
  }
 ],
 "metadata": {
  "kernelspec": {
   "display_name": "Python 3",
   "language": "python",
   "name": "python3"
  },
  "language_info": {
   "codemirror_mode": {
    "name": "ipython",
    "version": 3
   },
   "file_extension": ".py",
   "mimetype": "text/x-python",
   "name": "python",
   "nbconvert_exporter": "python",
   "pygments_lexer": "ipython3",
   "version": "3.7.8"
  }
 },
 "nbformat": 4,
 "nbformat_minor": 4
}
